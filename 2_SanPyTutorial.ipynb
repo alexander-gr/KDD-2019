{
 "cells": [
  {
   "cell_type": "markdown",
   "metadata": {},
   "source": [
    "# Welcome to SanPy tutorial!"
   ]
  },
  {
   "cell_type": "markdown",
   "metadata": {},
   "source": [
    "**In this tutorial you'll learn:**\n",
    "1. What is SanPy\n",
    "2. How to configure and use SanPy library\n",
    "3. Metrics you can get via SanPy"
   ]
  },
  {
   "cell_type": "markdown",
   "metadata": {},
   "source": [
    "# What is SanPy"
   ]
  },
  {
   "cell_type": "markdown",
   "metadata": {},
   "source": [
    "**SanPy** is Santiment API python client. It allows to directly get necessary metrics for your analytics. <br>\n",
    "Official SanPy docs are [here](https://github.com/santiment/sanpy).<br>\n"
   ]
  },
  {
   "cell_type": "markdown",
   "metadata": {},
   "source": [
    "You can also install SanPy on your machine with<br>```pip install sanpy```"
   ]
  },
  {
   "cell_type": "markdown",
   "metadata": {},
   "source": [
    "SanPy provides a bunch of onchain and social metrics as well as price, trade volumes and other metrics. [Available metrics](https://github.com/santiment/sanpy#available-metrics)\n",
    "\n",
    "Some of the metrics requires **API key**. Contact us to get temporary API key during the conference or get it by yourself following the [instructions](https://github.com/santiment/sanpy#configuration). "
   ]
  },
  {
   "cell_type": "markdown",
   "metadata": {},
   "source": [
    "# Getting the data"
   ]
  },
  {
   "cell_type": "code",
   "execution_count": 1,
   "metadata": {},
   "outputs": [],
   "source": [
    "# import SanPy\n",
    "import san\n",
    "\n",
    "# (optional) configure your API key\n",
    "\n",
    "san.ApiConfig.api_key = 'api-key-provided-by-sanbase'"
   ]
  },
  {
   "cell_type": "markdown",
   "metadata": {},
   "source": [
    "The data is fetched by providing a string in the format `query/slug` and additional parameters.\n",
    "\n",
    "- `query`: Available queries can be found in section: [Available metrics](#available-metrics)\n",
    "- `slug`: A list of projects with their slugs, names, etc."
   ]
  },
  {
   "cell_type": "code",
   "execution_count": 2,
   "metadata": {},
   "outputs": [
    {
     "data": {
      "text/html": [
       "<div>\n",
       "<style scoped>\n",
       "    .dataframe tbody tr th:only-of-type {\n",
       "        vertical-align: middle;\n",
       "    }\n",
       "\n",
       "    .dataframe tbody tr th {\n",
       "        vertical-align: top;\n",
       "    }\n",
       "\n",
       "    .dataframe thead th {\n",
       "        text-align: right;\n",
       "    }\n",
       "</style>\n",
       "<table border=\"1\" class=\"dataframe\">\n",
       "  <thead>\n",
       "    <tr style=\"text-align: right;\">\n",
       "      <th></th>\n",
       "      <th>marketSegment</th>\n",
       "      <th>name</th>\n",
       "      <th>slug</th>\n",
       "      <th>ticker</th>\n",
       "      <th>totalSupply</th>\n",
       "    </tr>\n",
       "  </thead>\n",
       "  <tbody>\n",
       "    <tr>\n",
       "      <th>0</th>\n",
       "      <td>Blockchain Network</td>\n",
       "      <td>0chain</td>\n",
       "      <td>0chain</td>\n",
       "      <td>ZCN</td>\n",
       "      <td>200000000</td>\n",
       "    </tr>\n",
       "    <tr>\n",
       "      <th>1</th>\n",
       "      <td>Exchange</td>\n",
       "      <td>0x</td>\n",
       "      <td>0x</td>\n",
       "      <td>ZRX</td>\n",
       "      <td>1000000000</td>\n",
       "    </tr>\n",
       "    <tr>\n",
       "      <th>2</th>\n",
       "      <td>Cryptocurrency</td>\n",
       "      <td>0xBitcoin</td>\n",
       "      <td>0xbtc</td>\n",
       "      <td>0xBTC</td>\n",
       "      <td>20999984</td>\n",
       "    </tr>\n",
       "    <tr>\n",
       "      <th>3</th>\n",
       "      <td>Protocol</td>\n",
       "      <td>0xcert Protocol</td>\n",
       "      <td>0xcert</td>\n",
       "      <td>ZXC</td>\n",
       "      <td>500000000</td>\n",
       "    </tr>\n",
       "    <tr>\n",
       "      <th>4</th>\n",
       "      <td>Marketing</td>\n",
       "      <td>1World</td>\n",
       "      <td>1world</td>\n",
       "      <td>1WO</td>\n",
       "      <td>37219452.96</td>\n",
       "    </tr>\n",
       "  </tbody>\n",
       "</table>\n",
       "</div>"
      ],
      "text/plain": [
       "        marketSegment             name    slug ticker  totalSupply\n",
       "0  Blockchain Network           0chain  0chain    ZCN    200000000\n",
       "1            Exchange               0x      0x    ZRX   1000000000\n",
       "2      Cryptocurrency        0xBitcoin   0xbtc  0xBTC     20999984\n",
       "3            Protocol  0xcert Protocol  0xcert    ZXC    500000000\n",
       "4           Marketing           1World  1world    1WO  37219452.96"
      ]
     },
     "execution_count": 2,
     "metadata": {},
     "output_type": "execute_result"
    }
   ],
   "source": [
    "# Get all projects:\n",
    "df = san.get(\"projects/all\")\n",
    "df.head()"
   ]
  },
  {
   "cell_type": "markdown",
   "metadata": {},
   "source": [
    "Getting the metrics next parameters could be specified:\n",
    "- `from_date`, `to_date` - A date or datetime in iso8601 format specifying the start and end datetime for the returned data for ex: `2018-06-01`\n",
    "- `interval` - The interval of the returned data - an integer followed by one of: `s`, `m`, `h`, `d` or `w`\n",
    "\n",
    "Default values for parameters:\n",
    "\n",
    "- `from_date`: `datetime.now() - 365 days`\n",
    "- `to_date`: `datetime.now()`\n",
    "- `interval`: `'1d'` "
   ]
  },
  {
   "cell_type": "markdown",
   "metadata": {},
   "source": [
    "# Onchain metrics examples"
   ]
  },
  {
   "cell_type": "markdown",
   "metadata": {},
   "source": [
    "## BurnRate"
   ]
  },
  {
   "cell_type": "markdown",
   "metadata": {},
   "source": [
    "Each transaction has an equivalent **burn rate** record. The burn rate is calculated by multiplying the number of tokens moved by the number of blocks in which they appeared. Spikes in burn rate could indicate large transactions or movement of tokens that have been held for a long time. \n",
    "<br> In order to access real time data or historical data (older than 3 months), you'll need to set the api key and have some SAN tokens in your account."
   ]
  },
  {
   "cell_type": "code",
   "execution_count": 3,
   "metadata": {},
   "outputs": [
    {
     "data": {
      "text/html": [
       "<div>\n",
       "<style scoped>\n",
       "    .dataframe tbody tr th:only-of-type {\n",
       "        vertical-align: middle;\n",
       "    }\n",
       "\n",
       "    .dataframe tbody tr th {\n",
       "        vertical-align: top;\n",
       "    }\n",
       "\n",
       "    .dataframe thead th {\n",
       "        text-align: right;\n",
       "    }\n",
       "</style>\n",
       "<table border=\"1\" class=\"dataframe\">\n",
       "  <thead>\n",
       "    <tr style=\"text-align: right;\">\n",
       "      <th></th>\n",
       "      <th>burnRate</th>\n",
       "    </tr>\n",
       "    <tr>\n",
       "      <th>datetime</th>\n",
       "      <th></th>\n",
       "    </tr>\n",
       "  </thead>\n",
       "  <tbody>\n",
       "    <tr>\n",
       "      <th>2019-01-01 00:00:00+00:00</th>\n",
       "      <td>3.947808e+06</td>\n",
       "    </tr>\n",
       "    <tr>\n",
       "      <th>2019-01-02 00:00:00+00:00</th>\n",
       "      <td>1.059677e+07</td>\n",
       "    </tr>\n",
       "    <tr>\n",
       "      <th>2019-01-03 00:00:00+00:00</th>\n",
       "      <td>1.743003e+10</td>\n",
       "    </tr>\n",
       "    <tr>\n",
       "      <th>2019-01-04 00:00:00+00:00</th>\n",
       "      <td>5.804725e+07</td>\n",
       "    </tr>\n",
       "    <tr>\n",
       "      <th>2019-01-05 00:00:00+00:00</th>\n",
       "      <td>1.554360e+08</td>\n",
       "    </tr>\n",
       "  </tbody>\n",
       "</table>\n",
       "</div>"
      ],
      "text/plain": [
       "                               burnRate\n",
       "datetime                               \n",
       "2019-01-01 00:00:00+00:00  3.947808e+06\n",
       "2019-01-02 00:00:00+00:00  1.059677e+07\n",
       "2019-01-03 00:00:00+00:00  1.743003e+10\n",
       "2019-01-04 00:00:00+00:00  5.804725e+07\n",
       "2019-01-05 00:00:00+00:00  1.554360e+08"
      ]
     },
     "execution_count": 3,
     "metadata": {},
     "output_type": "execute_result"
    }
   ],
   "source": [
    "# To get BurnRate for Santiment use:\n",
    "\n",
    "burn_rate = san.get(\n",
    "    \"burn_rate/santiment\",\n",
    "    from_date=\"2019-01-01\", \n",
    "    to_date=\"2019-02-01\",\n",
    "    interval=\"1d\"\n",
    ")\n",
    "\n",
    "burn_rate.head()"
   ]
  },
  {
   "cell_type": "markdown",
   "metadata": {},
   "source": [
    "## ExchangeFundsFlow "
   ]
  },
  {
   "cell_type": "markdown",
   "metadata": {},
   "source": [
    "Fetch the difference between the tokens that were deposited minus the tokens that were withdrawn from an exchange for a given slug in the selected time period. \n",
    "<br>In order to access real time data or historical data (older than 3 months), you'll need to set the api key and have some SAN tokens in your account."
   ]
  },
  {
   "cell_type": "code",
   "execution_count": 4,
   "metadata": {},
   "outputs": [
    {
     "data": {
      "text/html": [
       "<div>\n",
       "<style scoped>\n",
       "    .dataframe tbody tr th:only-of-type {\n",
       "        vertical-align: middle;\n",
       "    }\n",
       "\n",
       "    .dataframe tbody tr th {\n",
       "        vertical-align: top;\n",
       "    }\n",
       "\n",
       "    .dataframe thead th {\n",
       "        text-align: right;\n",
       "    }\n",
       "</style>\n",
       "<table border=\"1\" class=\"dataframe\">\n",
       "  <thead>\n",
       "    <tr style=\"text-align: right;\">\n",
       "      <th></th>\n",
       "      <th>inOutDifference</th>\n",
       "    </tr>\n",
       "    <tr>\n",
       "      <th>datetime</th>\n",
       "      <th></th>\n",
       "    </tr>\n",
       "  </thead>\n",
       "  <tbody>\n",
       "    <tr>\n",
       "      <th>2019-01-01 01:00:00+00:00</th>\n",
       "      <td>-1.232188e+06</td>\n",
       "    </tr>\n",
       "    <tr>\n",
       "      <th>2019-01-07 00:00:00+00:00</th>\n",
       "      <td>-7.466276e+05</td>\n",
       "    </tr>\n",
       "    <tr>\n",
       "      <th>2019-01-14 00:00:00+00:00</th>\n",
       "      <td>6.407092e+05</td>\n",
       "    </tr>\n",
       "    <tr>\n",
       "      <th>2019-01-21 00:00:00+00:00</th>\n",
       "      <td>5.583500e+04</td>\n",
       "    </tr>\n",
       "    <tr>\n",
       "      <th>2019-01-28 00:00:00+00:00</th>\n",
       "      <td>-1.943587e+04</td>\n",
       "    </tr>\n",
       "  </tbody>\n",
       "</table>\n",
       "</div>"
      ],
      "text/plain": [
       "                           inOutDifference\n",
       "datetime                                  \n",
       "2019-01-01 01:00:00+00:00    -1.232188e+06\n",
       "2019-01-07 00:00:00+00:00    -7.466276e+05\n",
       "2019-01-14 00:00:00+00:00     6.407092e+05\n",
       "2019-01-21 00:00:00+00:00     5.583500e+04\n",
       "2019-01-28 00:00:00+00:00    -1.943587e+04"
      ]
     },
     "execution_count": 4,
     "metadata": {},
     "output_type": "execute_result"
    }
   ],
   "source": [
    "exchange_funds_flow = san.get(\n",
    "    \"exchange_funds_flow/ethereum\",\n",
    "    from_date=\"2019-01-01T01:00:00Z\",\n",
    "    to_date=\"2019-02-01T01:00:00Z\",\n",
    "    interval=\"1w\"\n",
    ")\n",
    "\n",
    "exchange_funds_flow"
   ]
  },
  {
   "cell_type": "markdown",
   "metadata": {},
   "source": [
    "# Social metrics example"
   ]
  },
  {
   "cell_type": "markdown",
   "metadata": {},
   "source": [
    "## Social Volume"
   ]
  },
  {
   "cell_type": "markdown",
   "metadata": {},
   "source": [
    "**Social volume** is a number of mentions count in social channels for a given project and time interval. <br> In order to access real time data or historical data (older than 3 months), you'll need to set the api key and have some SAN tokens in your account."
   ]
  },
  {
   "cell_type": "markdown",
   "metadata": {},
   "source": [
    "Social volume has one more special argument: **social_volume_type** - the source of mention counts, one of the following:\n",
    "1. \"PROFESSIONAL_TRADERS_CHAT_OVERVIEW\" - shows how many times the given project was mentioned in the professional traders chat\n",
    "2. \"TELEGRAM_CHATS_OVERVIEW\" - shows how many times the given project was mentioned across all telegram chats, except the project's own community chat (if there is one)\n",
    "3. \"TELEGRAM_DISCUSSION_OVERVIEW\" - the general volume of messages in the project's community chat (if there is one)\n",
    "4. \"DISCORD_DISCUSSION_OVERVIEW\" - shows how many times the given project has been mentioned in the discord channels"
   ]
  },
  {
   "cell_type": "code",
   "execution_count": 5,
   "metadata": {},
   "outputs": [
    {
     "data": {
      "text/html": [
       "<div>\n",
       "<style scoped>\n",
       "    .dataframe tbody tr th:only-of-type {\n",
       "        vertical-align: middle;\n",
       "    }\n",
       "\n",
       "    .dataframe tbody tr th {\n",
       "        vertical-align: top;\n",
       "    }\n",
       "\n",
       "    .dataframe thead th {\n",
       "        text-align: right;\n",
       "    }\n",
       "</style>\n",
       "<table border=\"1\" class=\"dataframe\">\n",
       "  <thead>\n",
       "    <tr style=\"text-align: right;\">\n",
       "      <th></th>\n",
       "      <th>mentionsCount</th>\n",
       "    </tr>\n",
       "    <tr>\n",
       "      <th>datetime</th>\n",
       "      <th></th>\n",
       "    </tr>\n",
       "  </thead>\n",
       "  <tbody>\n",
       "    <tr>\n",
       "      <th>2019-01-01 00:00:00+00:00</th>\n",
       "      <td>425</td>\n",
       "    </tr>\n",
       "    <tr>\n",
       "      <th>2019-01-01 12:00:00+00:00</th>\n",
       "      <td>458</td>\n",
       "    </tr>\n",
       "    <tr>\n",
       "      <th>2019-01-02 00:00:00+00:00</th>\n",
       "      <td>360</td>\n",
       "    </tr>\n",
       "    <tr>\n",
       "      <th>2019-01-02 12:00:00+00:00</th>\n",
       "      <td>596</td>\n",
       "    </tr>\n",
       "    <tr>\n",
       "      <th>2019-01-03 00:00:00+00:00</th>\n",
       "      <td>365</td>\n",
       "    </tr>\n",
       "  </tbody>\n",
       "</table>\n",
       "</div>"
      ],
      "text/plain": [
       "                           mentionsCount\n",
       "datetime                                \n",
       "2019-01-01 00:00:00+00:00            425\n",
       "2019-01-01 12:00:00+00:00            458\n",
       "2019-01-02 00:00:00+00:00            360\n",
       "2019-01-02 12:00:00+00:00            596\n",
       "2019-01-03 00:00:00+00:00            365"
      ]
     },
     "execution_count": 5,
     "metadata": {},
     "output_type": "execute_result"
    }
   ],
   "source": [
    "social_volume = san.get(\n",
    "    \"social_volume/bitcoin\",\n",
    "    from_date=\"2019-01-01\",\n",
    "    to_date=\"2019-02-01\",\n",
    "    interval=\"12h\",\n",
    "    social_volume_type=\"TELEGRAM_CHATS_OVERVIEW\"\n",
    ")\n",
    "\n",
    "social_volume.head()"
   ]
  },
  {
   "cell_type": "markdown",
   "metadata": {},
   "source": [
    "## Topic search"
   ]
  },
  {
   "cell_type": "markdown",
   "metadata": {},
   "source": [
    "**Topic search** is the number of the mentions of the search phrase from the selected source. \n",
    "<br>The results are in two formats - the messages themselves and the data for building graph representation of the result. \n",
    "<br>In order to access real time data or historical data (older than 3 months), you'll need to set the api key and have some SAN tokens in your account."
   ]
  },
  {
   "cell_type": "markdown",
   "metadata": {},
   "source": [
    "Arguments description:\n",
    "\n",
    "1. A string in the format \"topic_search/fields\" where fields is one of the following:\n",
    "  1. \"messages\" \n",
    "  2. \"chart_data\" \n",
    "2. source - one of the following:\n",
    "  1. TELEGRAM\n",
    "  2. PROFESSIONAL_TRADERS_CHAT\n",
    "  3. REDDIT\n",
    "  4. DISCORD\n",
    "3. search_text - a string containing the key words for which the sources should be searched.\n",
    "4. from_date - a string representation of datetime value according to the iso8601 standard, e.g. \"2018-04-16T10:02:19Z\"\n",
    "5. to_date - a string representation of datetime value according to the iso8601 standard, e.g. \"2018-04-16T10:02:19Z\"\n",
    "6. interval - an integer followed by one of: m, h, d, w"
   ]
  },
  {
   "cell_type": "code",
   "execution_count": 6,
   "metadata": {},
   "outputs": [],
   "source": [
    "topic_search = san.get(\n",
    "    \"topic_search/chart_data\",\n",
    "    source=\"TELEGRAM\",\n",
    "    search_text=\"ICO\",\n",
    "    from_date=\"2019-01-01\",\n",
    "    to_date=\"2019-02-01\",\n",
    "    interval=\"1d\"\n",
    ")"
   ]
  },
  {
   "cell_type": "code",
   "execution_count": 7,
   "metadata": {},
   "outputs": [
    {
     "data": {
      "text/html": [
       "<div>\n",
       "<style scoped>\n",
       "    .dataframe tbody tr th:only-of-type {\n",
       "        vertical-align: middle;\n",
       "    }\n",
       "\n",
       "    .dataframe tbody tr th {\n",
       "        vertical-align: top;\n",
       "    }\n",
       "\n",
       "    .dataframe thead th {\n",
       "        text-align: right;\n",
       "    }\n",
       "</style>\n",
       "<table border=\"1\" class=\"dataframe\">\n",
       "  <thead>\n",
       "    <tr style=\"text-align: right;\">\n",
       "      <th></th>\n",
       "      <th>mentionsCount</th>\n",
       "    </tr>\n",
       "    <tr>\n",
       "      <th>dt</th>\n",
       "      <th></th>\n",
       "    </tr>\n",
       "  </thead>\n",
       "  <tbody>\n",
       "    <tr>\n",
       "      <th>2019-01-01T00:00:00Z</th>\n",
       "      <td>44</td>\n",
       "    </tr>\n",
       "    <tr>\n",
       "      <th>2019-01-02T00:00:00Z</th>\n",
       "      <td>69</td>\n",
       "    </tr>\n",
       "    <tr>\n",
       "      <th>2019-01-03T00:00:00Z</th>\n",
       "      <td>86</td>\n",
       "    </tr>\n",
       "    <tr>\n",
       "      <th>2019-01-04T00:00:00Z</th>\n",
       "      <td>77</td>\n",
       "    </tr>\n",
       "    <tr>\n",
       "      <th>2019-01-05T00:00:00Z</th>\n",
       "      <td>61</td>\n",
       "    </tr>\n",
       "  </tbody>\n",
       "</table>\n",
       "</div>"
      ],
      "text/plain": [
       "                      mentionsCount\n",
       "dt                                 \n",
       "2019-01-01T00:00:00Z             44\n",
       "2019-01-02T00:00:00Z             69\n",
       "2019-01-03T00:00:00Z             86\n",
       "2019-01-04T00:00:00Z             77\n",
       "2019-01-05T00:00:00Z             61"
      ]
     },
     "execution_count": 7,
     "metadata": {},
     "output_type": "execute_result"
    }
   ],
   "source": [
    "# topic search response might be converted into common pandas dataFormat:\n",
    "\n",
    "topic_search['dt'] = topic_search['chartData'].apply(lambda x: x['datetime'])\n",
    "topic_search['mentionsCount'] = topic_search['chartData'].apply(lambda x: x['mentionsCount'])\n",
    "\n",
    "# set dt as index\n",
    "topic_search = topic_search.drop(columns=['chartData']).set_index('dt')\n",
    "\n",
    "# take a look\n",
    "topic_search.head()"
   ]
  },
  {
   "cell_type": "markdown",
   "metadata": {},
   "source": [
    "# Prices"
   ]
  },
  {
   "cell_type": "markdown",
   "metadata": {},
   "source": [
    "You can also get **prices** of a particular asset using ```\"prices/[asset]\"```. <br>Executing such query you'll get market capitalization of an asset, asset's price in BTC and USD, traded volume:"
   ]
  },
  {
   "cell_type": "code",
   "execution_count": 8,
   "metadata": {},
   "outputs": [
    {
     "data": {
      "text/html": [
       "<div>\n",
       "<style scoped>\n",
       "    .dataframe tbody tr th:only-of-type {\n",
       "        vertical-align: middle;\n",
       "    }\n",
       "\n",
       "    .dataframe tbody tr th {\n",
       "        vertical-align: top;\n",
       "    }\n",
       "\n",
       "    .dataframe thead th {\n",
       "        text-align: right;\n",
       "    }\n",
       "</style>\n",
       "<table border=\"1\" class=\"dataframe\">\n",
       "  <thead>\n",
       "    <tr style=\"text-align: right;\">\n",
       "      <th></th>\n",
       "      <th>marketcap</th>\n",
       "      <th>priceBtc</th>\n",
       "      <th>priceUsd</th>\n",
       "      <th>volume</th>\n",
       "    </tr>\n",
       "    <tr>\n",
       "      <th>datetime</th>\n",
       "      <th></th>\n",
       "      <th></th>\n",
       "      <th></th>\n",
       "      <th></th>\n",
       "    </tr>\n",
       "  </thead>\n",
       "  <tbody>\n",
       "    <tr>\n",
       "      <th>2019-01-01 00:00:00+00:00</th>\n",
       "      <td>1.391436e+10</td>\n",
       "      <td>0.035643</td>\n",
       "      <td>133.632201</td>\n",
       "      <td>2310173485</td>\n",
       "    </tr>\n",
       "    <tr>\n",
       "      <th>2019-01-01 01:00:00+00:00</th>\n",
       "      <td>1.393447e+10</td>\n",
       "      <td>0.035708</td>\n",
       "      <td>133.824298</td>\n",
       "      <td>2275315526</td>\n",
       "    </tr>\n",
       "    <tr>\n",
       "      <th>2019-01-01 02:00:00+00:00</th>\n",
       "      <td>1.386999e+10</td>\n",
       "      <td>0.035642</td>\n",
       "      <td>133.203978</td>\n",
       "      <td>2246935141</td>\n",
       "    </tr>\n",
       "    <tr>\n",
       "      <th>2019-01-01 03:00:00+00:00</th>\n",
       "      <td>1.387157e+10</td>\n",
       "      <td>0.035612</td>\n",
       "      <td>133.218112</td>\n",
       "      <td>2218898257</td>\n",
       "    </tr>\n",
       "    <tr>\n",
       "      <th>2019-01-01 04:00:00+00:00</th>\n",
       "      <td>1.400032e+10</td>\n",
       "      <td>0.035903</td>\n",
       "      <td>134.453657</td>\n",
       "      <td>2242686474</td>\n",
       "    </tr>\n",
       "  </tbody>\n",
       "</table>\n",
       "</div>"
      ],
      "text/plain": [
       "                              marketcap  priceBtc    priceUsd      volume\n",
       "datetime                                                                 \n",
       "2019-01-01 00:00:00+00:00  1.391436e+10  0.035643  133.632201  2310173485\n",
       "2019-01-01 01:00:00+00:00  1.393447e+10  0.035708  133.824298  2275315526\n",
       "2019-01-01 02:00:00+00:00  1.386999e+10  0.035642  133.203978  2246935141\n",
       "2019-01-01 03:00:00+00:00  1.387157e+10  0.035612  133.218112  2218898257\n",
       "2019-01-01 04:00:00+00:00  1.400032e+10  0.035903  134.453657  2242686474"
      ]
     },
     "execution_count": 8,
     "metadata": {},
     "output_type": "execute_result"
    }
   ],
   "source": [
    "prices = san.get(\n",
    "    \"prices/ethereum\",\n",
    "    from_date=\"2019-01-01\",\n",
    "    to_date=\"2019-02-01\",\n",
    "    interval=\"1h\"\n",
    ")\n",
    "\n",
    "prices.head()"
   ]
  },
  {
   "cell_type": "markdown",
   "metadata": {},
   "source": [
    "To get **open/high/low/close** prices you may use ```\"ohlcv/[asset]\"```."
   ]
  },
  {
   "cell_type": "markdown",
   "metadata": {},
   "source": [
    "# Batching queries"
   ]
  },
  {
   "cell_type": "markdown",
   "metadata": {},
   "source": [
    "When needed a lot of metrics it's efficient to batch multiple queries. It is done with Batching as follows:"
   ]
  },
  {
   "cell_type": "code",
   "execution_count": 9,
   "metadata": {},
   "outputs": [
    {
     "data": {
      "text/html": [
       "<div>\n",
       "<style scoped>\n",
       "    .dataframe tbody tr th:only-of-type {\n",
       "        vertical-align: middle;\n",
       "    }\n",
       "\n",
       "    .dataframe tbody tr th {\n",
       "        vertical-align: top;\n",
       "    }\n",
       "\n",
       "    .dataframe thead th {\n",
       "        text-align: right;\n",
       "    }\n",
       "</style>\n",
       "<table border=\"1\" class=\"dataframe\">\n",
       "  <thead>\n",
       "    <tr style=\"text-align: right;\">\n",
       "      <th></th>\n",
       "      <th>activeAddresses</th>\n",
       "    </tr>\n",
       "    <tr>\n",
       "      <th>datetime</th>\n",
       "      <th></th>\n",
       "    </tr>\n",
       "  </thead>\n",
       "  <tbody>\n",
       "    <tr>\n",
       "      <th>2019-01-01 00:00:00+00:00</th>\n",
       "      <td>224559</td>\n",
       "    </tr>\n",
       "    <tr>\n",
       "      <th>2019-01-07 00:00:00+00:00</th>\n",
       "      <td>226861</td>\n",
       "    </tr>\n",
       "    <tr>\n",
       "      <th>2019-01-14 00:00:00+00:00</th>\n",
       "      <td>220765</td>\n",
       "    </tr>\n",
       "    <tr>\n",
       "      <th>2019-01-21 00:00:00+00:00</th>\n",
       "      <td>202751</td>\n",
       "    </tr>\n",
       "    <tr>\n",
       "      <th>2019-01-28 00:00:00+00:00</th>\n",
       "      <td>200934</td>\n",
       "    </tr>\n",
       "  </tbody>\n",
       "</table>\n",
       "</div>"
      ],
      "text/plain": [
       "                           activeAddresses\n",
       "datetime                                  \n",
       "2019-01-01 00:00:00+00:00           224559\n",
       "2019-01-07 00:00:00+00:00           226861\n",
       "2019-01-14 00:00:00+00:00           220765\n",
       "2019-01-21 00:00:00+00:00           202751\n",
       "2019-01-28 00:00:00+00:00           200934"
      ]
     },
     "execution_count": 9,
     "metadata": {},
     "output_type": "execute_result"
    }
   ],
   "source": [
    "# import Batch\n",
    "from san import Batch\n",
    "\n",
    "# create batch object\n",
    "batch = Batch()\n",
    "\n",
    "# create a request\n",
    "batch.get(\n",
    "    \"daily_active_addresses/ethereum\",\n",
    "    from_date=\"2019-01-01\",\n",
    "    interval=\"1w\"\n",
    ")\n",
    "batch.get(\n",
    "    \"daily_active_addresses/santiment\",\n",
    "    from_date=\"2019-01-01\",\n",
    "    interval=\"1w\"\n",
    ")\n",
    "\n",
    "# execute the request\n",
    "[daa_eth, daa_san] = batch.execute()\n",
    "\n",
    "# check the results:\n",
    "\n",
    "#daa_san.head()\n",
    "daa_eth.head()"
   ]
  },
  {
   "cell_type": "markdown",
   "metadata": {},
   "source": [
    "__________________"
   ]
  },
  {
   "cell_type": "markdown",
   "metadata": {},
   "source": [
    "**Congratulations on completing the tutorial.**\n",
    "\n",
    "Find more tutorails [here](https://github.com/santiment/KDD-2019).\n",
    "\n",
    "If you have any questions contact team in [Santiment Discord](https://discord.gg/MMJvbQz) or [Santiment Telegram](https://t.me/santiment_network).<br>\n",
    "You can find FAQ and more metrics explained visiting [Santiment KnowledgeBase](https://help.santiment.net/)."
   ]
  }
 ],
 "metadata": {
  "kernelspec": {
   "display_name": "Python 3",
   "language": "python",
   "name": "python3"
  },
  "language_info": {
   "codemirror_mode": {
    "name": "ipython",
    "version": 3
   },
   "file_extension": ".py",
   "mimetype": "text/x-python",
   "name": "python",
   "nbconvert_exporter": "python",
   "pygments_lexer": "ipython3",
   "version": "3.6.6"
  }
 },
 "nbformat": 4,
 "nbformat_minor": 2
}
