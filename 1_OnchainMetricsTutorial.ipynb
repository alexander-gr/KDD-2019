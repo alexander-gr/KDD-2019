{
 "cells": [
  {
   "cell_type": "markdown",
   "metadata": {},
   "source": [
    "# Welcome to Santiment Onchain metrics Tutorial!"
   ]
  },
  {
   "cell_type": "code",
   "execution_count": 1,
   "metadata": {},
   "outputs": [
    {
     "data": {
      "text/html": [
       "<style>\n",
       "table {float:left}\n",
       "</style>\n"
      ],
      "text/plain": [
       "<IPython.core.display.HTML object>"
      ]
     },
     "metadata": {},
     "output_type": "display_data"
    }
   ],
   "source": [
    "%%html\n",
    "<style>\n",
    "table {float:left}\n",
    "</style>"
   ]
  },
  {
   "cell_type": "markdown",
   "metadata": {},
   "source": [
    "**In this tutorial you'll learn:**\n",
    "1. How to access the data stored in ClickHouse using ClickHousePyDriver\n",
    "2. What data is available\n",
    "3. What features could be computed from blockchain \n",
    "4. How to compute basic blockchain features from the example of Ethereum blockchain"
   ]
  },
  {
   "cell_type": "markdown",
   "metadata": {},
   "source": [
    "## Accessing the data "
   ]
  },
  {
   "cell_type": "markdown",
   "metadata": {},
   "source": [
    "The data is stored in **ClickHouse**.\n",
    "\n",
    "ClickHouse is a *column-oriented* database management system (DBMS) for online analytical processing of queries (OLAP).<br>\n",
    "You can find ClickHose documentation [here](https://clickhouse.yandex/docs/en/)."
   ]
  },
  {
   "cell_type": "markdown",
   "metadata": {},
   "source": [
    "In order to access the data you can use [clickhouse-driver](https://pypi.org/project/clickhouse-driver/):"
   ]
  },
  {
   "cell_type": "code",
   "execution_count": 2,
   "metadata": {},
   "outputs": [],
   "source": [
    "# import client\n",
    "from clickhouse_driver import Client"
   ]
  },
  {
   "cell_type": "code",
   "execution_count": 3,
   "metadata": {},
   "outputs": [],
   "source": [
    "# to connect Clickhouse cluster use 'clickhouse' as a HostName.\n",
    "HOST = 'clickhouse'\n",
    "\n",
    "# data is stored using lz4 comression. You have to specify this creating the client.\n",
    "COMPRESSION = 'lz4'\n",
    "\n",
    "# create client itself.\n",
    "client = Client(host = HOST, compression = COMPRESSION)"
   ]
  },
  {
   "cell_type": "markdown",
   "metadata": {},
   "source": [
    "## Available data"
   ]
  },
  {
   "cell_type": "markdown",
   "metadata": {},
   "source": [
    "Ethereum blockchain data is stored in 2 tables: \n",
    "1. eth_transfers\n",
    "2. erc20_transfers\n",
    "\n",
    "Every row in both tables is a transaction but single onchain transaction corresponds to multiple rows."
   ]
  },
  {
   "cell_type": "markdown",
   "metadata": {},
   "source": [
    "1. **eth_transfers** table consists of columns:\n",
    "\n",
    "| column_name | data_type | description |\n",
    "|---|---|---|\n",
    "| dt | DateTime | Transaction's datetime |\n",
    "| from | String | The address sending Ether |\n",
    "| to | String | The address receiving Ether |\n",
    "| value | Float64 | Sent amount of Ether, wei |\n",
    "| valueExactBase36 | String | Raw sent amount of ETH, wei |\n",
    "| blockNumber | UInt32 | Height of the block with given transaction |\n",
    "| transactionHash | String | Transaction's hash |\n",
    "| transactionPosition  | UInt32 | Transaction's position |\n",
    "| type  | Enum8 | One of (call', 'fee', 'genesis', 'suicide', 'reward', 'create', 'dao_hack'). See description below.|\n",
    "| primaryKey  | UInt64 | service stuff |"
   ]
  },
  {
   "cell_type": "markdown",
   "metadata": {},
   "source": [
    "Transactions' types:\n",
    "1. **call** is a usual transfer.\n",
    "2. **fee** is a fee sent to miner by address-sender. \n",
    "3. **genesis** is a special tag used for initial distribution of Ether in block #0.\n",
    "4. **suicide** is a transfer cause smart contract destruction.\n",
    "5. **reward** is a miner's reward for block creation. \n",
    "6. **create** is a transfer creating smart contract.\n",
    "7. **dao_hack** DAO_HACK_HARD_FORK transfers."
   ]
  },
  {
   "cell_type": "markdown",
   "metadata": {},
   "source": [
    "\n",
    "\n",
    "\n",
    "2. **erc20_transfers** table consists of columns:\n",
    "\n",
    "| column_name | data_type | description |\n",
    "|---|---|---|\n",
    "| dt | DateTime | Transaction's datetime |\n",
    "| from | String | The address sending tokens |\n",
    "| to | String | The address receiving toekns |\n",
    "| value | Float64 | Sent amount of tokens |\n",
    "| contract | String | The address of sent token's contract |\n",
    "| valueExactBase36 | String | Raw sent amount |\n",
    "| blockNumber | UInt32 | Height of the block with given transaction |\n",
    "| transactionHash | String | Transaction's hash |\n",
    "| logIndex  | Enum8 | service stuff |\n",
    "| primaryKey  | UInt64 | service stuff |\n"
   ]
  },
  {
   "cell_type": "markdown",
   "metadata": {},
   "source": [
    "## Getting the data"
   ]
  },
  {
   "cell_type": "markdown",
   "metadata": {},
   "source": [
    "ClickHouse supports a declarative query language based on SQL that is identical to the SQL standard in many cases. <br>\n",
    "Supported queries include GROUP BY, ORDER BY, subqueries in FROM, IN, and JOIN clauses, and scalar subqueries. <br>\n",
    "Dependent subqueries and window functions are not supported."
   ]
  },
  {
   "cell_type": "code",
   "execution_count": 4,
   "metadata": {},
   "outputs": [
    {
     "data": {
      "text/plain": [
       "[('0x0ff8d2412b13ff129f53ee8dd0eda5f2ae600494',\n",
       "  '0xb2930b35844a230f00e51431acae96fe543a0347',\n",
       "  1431792000000000.0,\n",
       "  datetime.datetime(2019, 1, 2, 22, 9, 12),\n",
       "  '0xa72d6ae2871b32d91a12dc4890c65b112d92b623a205d53e7b8762a4e62596a3',\n",
       "  7000000,\n",
       "  'fee')]"
      ]
     },
     "execution_count": 4,
     "metadata": {},
     "output_type": "execute_result"
    }
   ],
   "source": [
    "# to get the data write a sql statement:\n",
    "# get any one row from block #7,000,000\n",
    "sql = \"\"\"SELECT from, to, value, dt, transactionHash, blockNumber, type FROM eth_transfers WHERE blockNumber = 7000000 LIMIT 1\"\"\"\n",
    "\n",
    "# execute sql statement\n",
    "response = client.execute(sql)\n",
    "\n",
    "# show the result\n",
    "response"
   ]
  },
  {
   "cell_type": "markdown",
   "metadata": {},
   "source": [
    "The client returns list with tuples. In most cases it's more convinient to work with the data using pandas DataFrames."
   ]
  },
  {
   "cell_type": "code",
   "execution_count": 5,
   "metadata": {},
   "outputs": [
    {
     "data": {
      "text/html": [
       "<div>\n",
       "<style scoped>\n",
       "    .dataframe tbody tr th:only-of-type {\n",
       "        vertical-align: middle;\n",
       "    }\n",
       "\n",
       "    .dataframe tbody tr th {\n",
       "        vertical-align: top;\n",
       "    }\n",
       "\n",
       "    .dataframe thead th {\n",
       "        text-align: right;\n",
       "    }\n",
       "</style>\n",
       "<table border=\"1\" class=\"dataframe\">\n",
       "  <thead>\n",
       "    <tr style=\"text-align: right;\">\n",
       "      <th></th>\n",
       "      <th>from</th>\n",
       "      <th>to</th>\n",
       "      <th>value</th>\n",
       "      <th>dt</th>\n",
       "      <th>transactionHash</th>\n",
       "      <th>blockNumber</th>\n",
       "      <th>type</th>\n",
       "    </tr>\n",
       "  </thead>\n",
       "  <tbody>\n",
       "    <tr>\n",
       "      <th>0</th>\n",
       "      <td>0x0ff8d2412b13ff129f53ee8dd0eda5f2ae600494</td>\n",
       "      <td>0xb2930b35844a230f00e51431acae96fe543a0347</td>\n",
       "      <td>1.431792e+15</td>\n",
       "      <td>2019-01-02 22:09:12</td>\n",
       "      <td>0xa72d6ae2871b32d91a12dc4890c65b112d92b623a205...</td>\n",
       "      <td>7000000</td>\n",
       "      <td>fee</td>\n",
       "    </tr>\n",
       "  </tbody>\n",
       "</table>\n",
       "</div>"
      ],
      "text/plain": [
       "                                         from  \\\n",
       "0  0x0ff8d2412b13ff129f53ee8dd0eda5f2ae600494   \n",
       "\n",
       "                                           to         value  \\\n",
       "0  0xb2930b35844a230f00e51431acae96fe543a0347  1.431792e+15   \n",
       "\n",
       "                   dt                                    transactionHash  \\\n",
       "0 2019-01-02 22:09:12  0xa72d6ae2871b32d91a12dc4890c65b112d92b623a205...   \n",
       "\n",
       "   blockNumber type  \n",
       "0      7000000  fee  "
      ]
     },
     "execution_count": 5,
     "metadata": {},
     "output_type": "execute_result"
    }
   ],
   "source": [
    "# import pandas\n",
    "import pandas as pd\n",
    "\n",
    "# specify DataFrame's column names\n",
    "columns = ['from', 'to', 'value', 'dt', 'transactionHash', 'blockNumber', 'type']\n",
    "\n",
    "# convert responce to pandas DataFrame\n",
    "df = pd.DataFrame(response, columns = columns)\n",
    "\n",
    "# show the DataFrame\n",
    "df"
   ]
  },
  {
   "cell_type": "markdown",
   "metadata": {},
   "source": [
    "### Example 1: Get all addresses ever mined blocks (miners) with the number of mined blocks"
   ]
  },
  {
   "cell_type": "code",
   "execution_count": 6,
   "metadata": {},
   "outputs": [],
   "source": [
    "sql = \"\"\"\n",
    "SELECT to, count(to)\n",
    "FROM eth_transfers\n",
    "WHERE type = 'reward' --use 'type' field to identify miners\n",
    "                      --miner is an address ever mined block, i.e. it received a reward for created block.\n",
    "GROUP BY to\n",
    "ORDER BY count(to) DESC\n",
    "\"\"\"\n",
    "\n",
    "miners = client.execute(sql)\n",
    "\n",
    "miners = pd.DataFrame(miners, columns = ['miner', 'mined_blocks'])"
   ]
  },
  {
   "cell_type": "code",
   "execution_count": 7,
   "metadata": {},
   "outputs": [
    {
     "data": {
      "text/html": [
       "<div>\n",
       "<style scoped>\n",
       "    .dataframe tbody tr th:only-of-type {\n",
       "        vertical-align: middle;\n",
       "    }\n",
       "\n",
       "    .dataframe tbody tr th {\n",
       "        vertical-align: top;\n",
       "    }\n",
       "\n",
       "    .dataframe thead th {\n",
       "        text-align: right;\n",
       "    }\n",
       "</style>\n",
       "<table border=\"1\" class=\"dataframe\">\n",
       "  <thead>\n",
       "    <tr style=\"text-align: right;\">\n",
       "      <th></th>\n",
       "      <th>miner</th>\n",
       "      <th>mined_blocks</th>\n",
       "    </tr>\n",
       "  </thead>\n",
       "  <tbody>\n",
       "    <tr>\n",
       "      <th>0</th>\n",
       "      <td>0xea674fdde714fd979de3edf0f56aa9716b898ec8</td>\n",
       "      <td>1415731</td>\n",
       "    </tr>\n",
       "    <tr>\n",
       "      <th>1</th>\n",
       "      <td>0x2a65aca4d5fc5b5c859090a6c34d164135398226</td>\n",
       "      <td>986831</td>\n",
       "    </tr>\n",
       "    <tr>\n",
       "      <th>2</th>\n",
       "      <td>0x52bc44d5378309ee2abf1539bf71de1b7d7be3b5</td>\n",
       "      <td>929981</td>\n",
       "    </tr>\n",
       "    <tr>\n",
       "      <th>3</th>\n",
       "      <td>0x829bd824b016326a401d083b33d092293333a830</td>\n",
       "      <td>684096</td>\n",
       "    </tr>\n",
       "    <tr>\n",
       "      <th>4</th>\n",
       "      <td>0x5a0b54d5dc17e0aadc383d2db43b0a0d3e029c4c</td>\n",
       "      <td>520455</td>\n",
       "    </tr>\n",
       "  </tbody>\n",
       "</table>\n",
       "</div>"
      ],
      "text/plain": [
       "                                        miner  mined_blocks\n",
       "0  0xea674fdde714fd979de3edf0f56aa9716b898ec8       1415731\n",
       "1  0x2a65aca4d5fc5b5c859090a6c34d164135398226        986831\n",
       "2  0x52bc44d5378309ee2abf1539bf71de1b7d7be3b5        929981\n",
       "3  0x829bd824b016326a401d083b33d092293333a830        684096\n",
       "4  0x5a0b54d5dc17e0aadc383d2db43b0a0d3e029c4c        520455"
      ]
     },
     "execution_count": 7,
     "metadata": {},
     "output_type": "execute_result"
    }
   ],
   "source": [
    "miners.head()"
   ]
  },
  {
   "cell_type": "markdown",
   "metadata": {},
   "source": [
    "### Example 2: Get number of all BINANCE token transfers for the last 24h"
   ]
  },
  {
   "cell_type": "code",
   "execution_count": 8,
   "metadata": {},
   "outputs": [
    {
     "data": {
      "text/plain": [
       "517216"
      ]
     },
     "execution_count": 8,
     "metadata": {},
     "output_type": "execute_result"
    }
   ],
   "source": [
    "sql = \"\"\"\n",
    "SELECT uniqExact(transactionHash)\n",
    "FROM erc20_transfers\n",
    "WHERE contract = '0xb8c77482e45f1f44de1745f52c74426c631bdd52'\n",
    "    AND dt >= dateDiff('hour', dt, now()) <= 24\n",
    "\"\"\"\n",
    "\n",
    "# uniqExact() is built-in ClickHouse function. It comoutes the number of rows with unique values.\n",
    "\n",
    "# use field contract search for necesary token. \n",
    "    # '0xb8c77482e45f1f44de1745f52c74426c631bdd52' is BINANCEcoin contract. \n",
    "    \n",
    "# dateDiff('unit', t1, t2, [timezone]) returns the difference between two times expressed in chosen tiemunit.\n",
    "    # for more visit https://clickhouse.yandex/docs/en/query_language/functions/date_time_functions/#datediff-unit-t1-t2-91-timezone-93\n",
    "\n",
    "# now() returns the current time at one of the moments of request execution. \n",
    "\n",
    "number_of_transfers = client.execute(sql)\n",
    "\n",
    "# show number of BNB token transfers for last 24 hours.\n",
    "number_of_transfers[0][0]"
   ]
  },
  {
   "cell_type": "markdown",
   "metadata": {},
   "source": [
    "### Example 3: Get all addresses received both ETH and SANTIMENT token in 2019"
   ]
  },
  {
   "cell_type": "markdown",
   "metadata": {},
   "source": [
    "To get list needed addresses you have to:\n",
    "1. Get list of addresses which received SAN tokens in 2019 \n",
    "2. Get list of addresses which received ETH in 2019\n",
    "3. Get addresses which present in both lists.\n",
    "\n",
    "Note that there are muiltiple ways to achieve that. <br>\n",
    "Lets benchmark 3 different queries giving same results. "
   ]
  },
  {
   "cell_type": "markdown",
   "metadata": {},
   "source": [
    "1. The first way is to use **JOIN**.<br>\n",
    "Visit JOIN section for more info: https://clickhouse.yandex/docs/en/query_language/select/#select-join"
   ]
  },
  {
   "cell_type": "code",
   "execution_count": 9,
   "metadata": {},
   "outputs": [
    {
     "name": "stdout",
     "output_type": "stream",
     "text": [
      "CPU times: user 480 ms, sys: 48 ms, total: 528 ms\n",
      "Wall time: 2.88 s\n"
     ]
    }
   ],
   "source": [
    "%%time \n",
    "\n",
    "sql = \"\"\"\n",
    "SELECT to\n",
    "FROM\n",
    "    (\n",
    "    SELECT distinct to\n",
    "    FROM eth_transfers\n",
    "    WHERE dt >= toDateTime('2019-01-01 00:00:00')\n",
    "    )\n",
    "ANY INNER JOIN\n",
    "    (\n",
    "    SELECT distinct to \n",
    "    FROM erc20_transfers\n",
    "    WHERE contract = '0x7c5a0ce9267ed19b22f8cae653f198e3e8daf098'\n",
    "        AND dt >= toDateTime('2019-01-01 00:00:00') \n",
    "    )\n",
    "USING to\n",
    "\"\"\"\n",
    "\n",
    "# note that it's much more efficient to filter 'dt' column twice in every subquery \n",
    "    # than joining full data and filtering by dateTime afterwards (after 'USING' statement) \n",
    "\n",
    "df = client.execute(sql)"
   ]
  },
  {
   "cell_type": "markdown",
   "metadata": {},
   "source": [
    "2. The second way is to use **GLOBAL IN** statement.<br>\n",
    "Visit IN section for more info: https://clickhouse.yandex/docs/en/query_language/select/#select-in-operators"
   ]
  },
  {
   "cell_type": "markdown",
   "metadata": {},
   "source": [
    "There are also 2 ways to use **IN** statement:\n",
    "\n",
    "1. filter out all addresses received ETH and select among them those which received SAN tokens\n",
    "2. filter out all addresses received SAN and select among them those which received ETH tokens\n",
    "\n",
    "Despite it looks quite similar there's a significant difference in perfomance. Lets check that!"
   ]
  },
  {
   "cell_type": "code",
   "execution_count": 10,
   "metadata": {},
   "outputs": [
    {
     "name": "stdout",
     "output_type": "stream",
     "text": [
      "CPU times: user 28 ms, sys: 12 ms, total: 40 ms\n",
      "Wall time: 563 ms\n"
     ]
    }
   ],
   "source": [
    "%%time\n",
    "\n",
    "sql = \"\"\"\n",
    "SELECT distinct to\n",
    "FROM eth_transfers\n",
    "WHERE dt >= toDateTime('2019-01-01 00:00:00')\n",
    "    AND to GLOBAL IN (SELECT distinct to \n",
    "                     FROM erc20_transfers\n",
    "                     WHERE contract = '0x7c5a0ce9267ed19b22f8cae653f198e3e8daf098'\n",
    "                         AND dt >= toDateTime('2019-01-01 00:00:00')\n",
    "                     )\n",
    "\"\"\"\n",
    "df = client.execute(sql)"
   ]
  },
  {
   "cell_type": "code",
   "execution_count": 11,
   "metadata": {},
   "outputs": [
    {
     "name": "stdout",
     "output_type": "stream",
     "text": [
      "CPU times: user 4 ms, sys: 8 ms, total: 12 ms\n",
      "Wall time: 3.91 s\n"
     ]
    }
   ],
   "source": [
    "%%time\n",
    "\n",
    "sql = \"\"\"\n",
    "SELECT distinct to\n",
    "FROM erc20_transfers\n",
    "WHERE dt >= toDateTime('2019-01-01 00:00:00')\n",
    "    AND contract = '0x7c5a0ce9267ed19b22f8cae653f198e3e8daf098'\n",
    "    AND to GLOBAL IN (SELECT distinct to \n",
    "                     FROM eth_transfers\n",
    "                     WHERE dt >= toDateTime('2019-01-01 00:00:00')\n",
    "                     )\n",
    "\"\"\"\n",
    "df = client.execute(sql)"
   ]
  },
  {
   "cell_type": "markdown",
   "metadata": {},
   "source": [
    "You see that the first way is ~10 times faster (on average). <br>\n",
    "It happens so because there are much more ETH transfers than SAN transfers and ClickHosue executes first statement in WHERE clause.\n",
    "\n",
    "Also first way is faster that JOIN query (in most cases IN statements are more efficient tham JOINs)"
   ]
  },
  {
   "cell_type": "markdown",
   "metadata": {},
   "source": [
    "**Optimization is quite important thing to think about. These toy examples illustrate the difference between approaches.**"
   ]
  },
  {
   "cell_type": "code",
   "execution_count": 12,
   "metadata": {},
   "outputs": [
    {
     "data": {
      "text/plain": [
       "181"
      ]
     },
     "execution_count": 12,
     "metadata": {},
     "output_type": "execute_result"
    }
   ],
   "source": [
    "# check the result\n",
    "\n",
    "# df\n",
    "len(df)"
   ]
  },
  {
   "cell_type": "markdown",
   "metadata": {},
   "source": [
    "## Computing basic blockchain metrics"
   ]
  },
  {
   "cell_type": "markdown",
   "metadata": {},
   "source": [
    "### Example 1: TransactionVolume"
   ]
  },
  {
   "cell_type": "markdown",
   "metadata": {},
   "source": [
    "**TransactionVolume** shows the aggregate amount of tokens across all transactions that happened on the network on a certain date.<br>\n",
    "Note that the metrics shows onchain transferred amount of tokens (or ETH) and does not show exchanges' trading volume."
   ]
  },
  {
   "cell_type": "code",
   "execution_count": 13,
   "metadata": {},
   "outputs": [
    {
     "data": {
      "text/html": [
       "<div>\n",
       "<style scoped>\n",
       "    .dataframe tbody tr th:only-of-type {\n",
       "        vertical-align: middle;\n",
       "    }\n",
       "\n",
       "    .dataframe tbody tr th {\n",
       "        vertical-align: top;\n",
       "    }\n",
       "\n",
       "    .dataframe thead th {\n",
       "        text-align: right;\n",
       "    }\n",
       "</style>\n",
       "<table border=\"1\" class=\"dataframe\">\n",
       "  <thead>\n",
       "    <tr style=\"text-align: right;\">\n",
       "      <th></th>\n",
       "      <th>volume</th>\n",
       "    </tr>\n",
       "    <tr>\n",
       "      <th>dt</th>\n",
       "      <th></th>\n",
       "    </tr>\n",
       "  </thead>\n",
       "  <tbody>\n",
       "    <tr>\n",
       "      <th>2019-01-01</th>\n",
       "      <td>19098.818167</td>\n",
       "    </tr>\n",
       "    <tr>\n",
       "      <th>2019-01-02</th>\n",
       "      <td>19511.145986</td>\n",
       "    </tr>\n",
       "    <tr>\n",
       "      <th>2019-01-03</th>\n",
       "      <td>18287.594748</td>\n",
       "    </tr>\n",
       "    <tr>\n",
       "      <th>2019-01-04</th>\n",
       "      <td>18201.413691</td>\n",
       "    </tr>\n",
       "    <tr>\n",
       "      <th>2019-01-05</th>\n",
       "      <td>18517.622024</td>\n",
       "    </tr>\n",
       "  </tbody>\n",
       "</table>\n",
       "</div>"
      ],
      "text/plain": [
       "                  volume\n",
       "dt                      \n",
       "2019-01-01  19098.818167\n",
       "2019-01-02  19511.145986\n",
       "2019-01-03  18287.594748\n",
       "2019-01-04  18201.413691\n",
       "2019-01-05  18517.622024"
      ]
     },
     "execution_count": 13,
     "metadata": {},
     "output_type": "execute_result"
    }
   ],
   "source": [
    "# Lets compute daily ETH transactionVolume since the beginning of the year.  \n",
    "\n",
    "sql = \"\"\"\n",
    "SELECT sum(value)/pow(10,18), toStartOfDay(dt)\n",
    "FROM eth_transfers \n",
    "WHERE dt >= toDateTime('2019-01-01 00:00:00') \n",
    "    AND dt < toDateTime(today())\n",
    "    AND type != 'call'\n",
    "GROUP BY toStartOfDay(dt)\n",
    "ORDER BY toStartOfDay(dt)\n",
    "\"\"\"\n",
    "\n",
    "transactionVolume = client.execute(sql)\n",
    "transactionVolume = pd.DataFrame(transactionVolume, columns = ['volume', 'dt']).set_index('dt')\n",
    "\n",
    "transactionVolume.head()"
   ]
  },
  {
   "cell_type": "code",
   "execution_count": 14,
   "metadata": {},
   "outputs": [
    {
     "data": {
      "text/plain": [
       "<matplotlib.axes._subplots.AxesSubplot at 0x7fc1e9f47e80>"
      ]
     },
     "execution_count": 14,
     "metadata": {},
     "output_type": "execute_result"
    }
   ],
   "source": [
    "# take a look into the data\n",
    "transactionVolume.plot()"
   ]
  },
  {
   "cell_type": "markdown",
   "metadata": {},
   "source": [
    "### Example 2: Daily Active Addresses"
   ]
  },
  {
   "cell_type": "markdown",
   "metadata": {},
   "source": [
    "**Daily Active Addresses** (DAA) shows the number of unique network addresses involved in transactions on a certain date. <br> DAA indicates the amount of network participants (activity level within a certain network)."
   ]
  },
  {
   "cell_type": "code",
   "execution_count": 15,
   "metadata": {},
   "outputs": [
    {
     "data": {
      "text/html": [
       "<div>\n",
       "<style scoped>\n",
       "    .dataframe tbody tr th:only-of-type {\n",
       "        vertical-align: middle;\n",
       "    }\n",
       "\n",
       "    .dataframe tbody tr th {\n",
       "        vertical-align: top;\n",
       "    }\n",
       "\n",
       "    .dataframe thead th {\n",
       "        text-align: right;\n",
       "    }\n",
       "</style>\n",
       "<table border=\"1\" class=\"dataframe\">\n",
       "  <thead>\n",
       "    <tr style=\"text-align: right;\">\n",
       "      <th></th>\n",
       "      <th>daa</th>\n",
       "    </tr>\n",
       "    <tr>\n",
       "      <th>dt</th>\n",
       "      <th></th>\n",
       "    </tr>\n",
       "  </thead>\n",
       "  <tbody>\n",
       "    <tr>\n",
       "      <th>2019-02-24</th>\n",
       "      <td>16</td>\n",
       "    </tr>\n",
       "    <tr>\n",
       "      <th>2019-02-25</th>\n",
       "      <td>19</td>\n",
       "    </tr>\n",
       "    <tr>\n",
       "      <th>2019-02-26</th>\n",
       "      <td>15</td>\n",
       "    </tr>\n",
       "    <tr>\n",
       "      <th>2019-02-27</th>\n",
       "      <td>10</td>\n",
       "    </tr>\n",
       "    <tr>\n",
       "      <th>2019-02-28</th>\n",
       "      <td>16</td>\n",
       "    </tr>\n",
       "  </tbody>\n",
       "</table>\n",
       "</div>"
      ],
      "text/plain": [
       "            daa\n",
       "dt             \n",
       "2019-02-24   16\n",
       "2019-02-25   19\n",
       "2019-02-26   15\n",
       "2019-02-27   10\n",
       "2019-02-28   16"
      ]
     },
     "execution_count": 15,
     "metadata": {},
     "output_type": "execute_result"
    }
   ],
   "source": [
    "sql = \"\"\"\n",
    "SELECT uniqExact(arrayJoin([from, to])), toStartOfDay(dt)\n",
    "FROM erc20_transfers\n",
    "WHERE contract = '0x7c5a0ce9267ed19b22f8cae653f198e3e8daf098'\n",
    "GROUP BY toStartOfDay(dt)\n",
    "ORDER BY toStartOfDay(dt)\n",
    "\"\"\"\n",
    "\n",
    "daa = client.execute(sql)\n",
    "daa = pd.DataFrame(daa, columns = ['daa','dt']).set_index('dt')\n",
    "\n",
    "daa.tail()"
   ]
  },
  {
   "cell_type": "code",
   "execution_count": 16,
   "metadata": {},
   "outputs": [
    {
     "data": {
      "text/plain": [
       "<matplotlib.axes._subplots.AxesSubplot at 0x7fc1e7ac7fd0>"
      ]
     },
     "execution_count": 16,
     "metadata": {},
     "output_type": "execute_result"
    },
    {
     "data": {
      "image/png": "[encoded data removed]",
      "text/plain": [
       "<Figure size 432x288 with 1 Axes>"
      ]
     },
     "metadata": {
      "needs_background": "light"
     },
     "output_type": "display_data"
    }
   ],
   "source": [
    "# take a glimpse at the data\n",
    "# ignore first day outlier\n",
    "daa[1:].plot()"
   ]
  },
  {
   "cell_type": "markdown",
   "metadata": {},
   "source": [
    "### Example 3: Transaction fees per block"
   ]
  },
  {
   "cell_type": "markdown",
   "metadata": {},
   "source": [
    "**Transaction fees** is the sum of all transaction fees in the block sent to miners. <br> \n",
    "In other words it's miners' reward excluding constant reward for block creation. "
   ]
  },
  {
   "cell_type": "code",
   "execution_count": 17,
   "metadata": {},
   "outputs": [
    {
     "data": {
      "text/html": [
       "<div>\n",
       "<style scoped>\n",
       "    .dataframe tbody tr th:only-of-type {\n",
       "        vertical-align: middle;\n",
       "    }\n",
       "\n",
       "    .dataframe tbody tr th {\n",
       "        vertical-align: top;\n",
       "    }\n",
       "\n",
       "    .dataframe thead th {\n",
       "        text-align: right;\n",
       "    }\n",
       "</style>\n",
       "<table border=\"1\" class=\"dataframe\">\n",
       "  <thead>\n",
       "    <tr style=\"text-align: right;\">\n",
       "      <th></th>\n",
       "      <th>totalFees</th>\n",
       "    </tr>\n",
       "    <tr>\n",
       "      <th>blockNumber</th>\n",
       "      <th></th>\n",
       "    </tr>\n",
       "  </thead>\n",
       "  <tbody>\n",
       "    <tr>\n",
       "      <th>7279992</th>\n",
       "      <td>0.071901</td>\n",
       "    </tr>\n",
       "    <tr>\n",
       "      <th>7279993</th>\n",
       "      <td>0.134100</td>\n",
       "    </tr>\n",
       "    <tr>\n",
       "      <th>7279994</th>\n",
       "      <td>0.090289</td>\n",
       "    </tr>\n",
       "    <tr>\n",
       "      <th>7279995</th>\n",
       "      <td>0.068718</td>\n",
       "    </tr>\n",
       "    <tr>\n",
       "      <th>7279996</th>\n",
       "      <td>0.072696</td>\n",
       "    </tr>\n",
       "  </tbody>\n",
       "</table>\n",
       "</div>"
      ],
      "text/plain": [
       "             totalFees\n",
       "blockNumber           \n",
       "7279992       0.071901\n",
       "7279993       0.134100\n",
       "7279994       0.090289\n",
       "7279995       0.068718\n",
       "7279996       0.072696"
      ]
     },
     "execution_count": 17,
     "metadata": {},
     "output_type": "execute_result"
    }
   ],
   "source": [
    "sql = \"\"\"\n",
    "SELECT sum(value)/pow(10,18), blockNumber\n",
    "FROM eth_transfers\n",
    "WHERE type = 'fee'\n",
    "    AND dt >= toDateTime('2019-01-01 00:00:00')\n",
    "GROUP BY blockNumber\n",
    "ORDER BY blockNumber\n",
    "\"\"\"\n",
    "\n",
    "fees = client.execute(sql)\n",
    "fees = pd.DataFrame(fees, columns = ['totalFees','blockNumber']).set_index('blockNumber')\n",
    "fees.tail()"
   ]
  },
  {
   "cell_type": "markdown",
   "metadata": {},
   "source": [
    "__________________"
   ]
  },
  {
   "cell_type": "markdown",
   "metadata": {},
   "source": [
    "**Congratulations on completing the tutorial.**\n",
    "\n",
    "Find more tutorails [here](https://github.com/santiment/KDD-2019).\n",
    "\n",
    "If you have any questions contact team in [Santiment Discord](https://discord.gg/MMJvbQz) or [Santiment Telegram](https://t.me/santiment_network).<br>\n",
    "You can find FAQ and more metrics explained visiting [Santiment KnowledgeBase](https://help.santiment.net/)."
   ]
  }
 ],
 "metadata": {
  "kernelspec": {
   "display_name": "Python 3",
   "language": "python",
   "name": "python3"
  },
  "language_info": {
   "codemirror_mode": {
    "name": "ipython",
    "version": 3
   },
   "file_extension": ".py",
   "mimetype": "text/x-python",
   "name": "python",
   "nbconvert_exporter": "python",
   "pygments_lexer": "ipython3",
   "version": "3.6.6"
  }
 },
 "nbformat": 4,
 "nbformat_minor": 2
}
